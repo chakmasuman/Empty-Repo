{
 "cells": [
  {
   "cell_type": "code",
   "execution_count": null,
   "id": "e97b7ed8",
   "metadata": {
    "scrolled": true
   },
   "outputs": [],
   "source": [
    "#Reverse a list\n",
    "list1 = [100, 200, 300, 400, 500]\n",
    "print(list1[::-1])"
   ]
  },
  {
   "cell_type": "code",
   "execution_count": null,
   "id": "aef555cd",
   "metadata": {},
   "outputs": [],
   "source": [
    "# Concatenate 2 List Index Wise\n",
    "list1 = [\"M\", \"na\", \"i\", \"Ke\"]\n",
    "list2 = [\"y\", \"me\", \"s\", \"lly\"]\n",
    "list3=[]\n",
    "#['My', 'name', 'is', 'Kelly']\n",
    "#list3= zip(list1,list2)\n",
    "#print (tuple(list3))\n",
    "for i in range(len(list1)):\n",
    "    list3.append(list1[i]+list2[i])\n",
    "print(list3)\n"
   ]
  },
  {
   "cell_type": "code",
   "execution_count": null,
   "id": "d8c1670f",
   "metadata": {},
   "outputs": [],
   "source": [
    "#Turn every item of a list into its square\n",
    "numbers = [1, 2, 3, 4, 5, 6, 7]\n",
    "#[1, 4, 9, 16, 25, 36, 49]\n",
    "sqr=[]\n",
    "for i in range(len(numbers)):\n",
    "    sqr.append(numbers[i] * numbers[i])\n",
    "print(sqr)"
   ]
  },
  {
   "cell_type": "code",
   "execution_count": null,
   "id": "03f6eb57",
   "metadata": {},
   "outputs": [],
   "source": [
    "# Concatenate two lists in the following order\n",
    "list1 = [\"Hello \", \"take \"]\n",
    "list2 = [\"Dear\", \"Sir\"]\n",
    "#outout = ['Hello Dear', 'Hello Sir', 'take Dear', 'take Sir']\n",
    "\n",
    "list3= []\n",
    "for i in range(len(list1)):\n",
    "    for j in range(len(list2)):\n",
    "        list3.append(list1[i]+list2[j])\n",
    "print(list3)\n"
   ]
  },
  {
   "cell_type": "code",
   "execution_count": null,
   "id": "3b0d4643",
   "metadata": {},
   "outputs": [],
   "source": [
    "#Add new item to list after a specified item\n",
    "list1 = [10, 20, [300, 400, [5000, 6000], 500], 30, 40]\n",
    "# output [10, 20, [300, 400, [5000, 6000, 7000], 500], 30, 40]\n",
    "\n",
    "list1[2][2].append(7000)\n",
    "print(list1)"
   ]
  },
  {
   "cell_type": "code",
   "execution_count": null,
   "id": "e7883e52",
   "metadata": {},
   "outputs": [],
   "source": [
    "#Extend nested list by adding the sublist\n",
    "list1 = [\"a\", \"b\", [\"c\", [\"d\", \"e\", [\"f\", \"g\"], \"k\"], \"l\"], \"m\", \"n\"]\n",
    "sub_list = [\"h\", \"i\", \"j\"]\n",
    "#output ['a', 'b', ['c', ['d', 'e', ['f', 'g', 'h', 'i', 'j'], 'k'], 'l'], 'm', 'n']\n",
    "list1[2][1][2].extend(sub_list)\n",
    "print(list1)"
   ]
  },
  {
   "cell_type": "code",
   "execution_count": null,
   "id": "7fe0608f",
   "metadata": {},
   "outputs": [],
   "source": [
    "# Iterate both lists simultaneously\n",
    "list1 = [10, 20, 30, 40]\n",
    "list2 = [100, 200, 300, 400]\n",
    "\n",
    "for (i , j) in zip(list1, list2):\n",
    "    print(i,j)\n",
    "    \n"
   ]
  },
  {
   "cell_type": "code",
   "execution_count": null,
   "id": "b1b70a0e",
   "metadata": {
    "scrolled": true
   },
   "outputs": [],
   "source": [
    "#Remove empty strings from the list of strings\n",
    "list1 = [\"Mike\", \"\", \"Emma\", \"Kelly\", \"\", \"Brad\"]\n",
    "list2=[]\n",
    "#list1.remove(\"\")\n",
    "#print(list1)\n",
    "#list2 = [list[i] for i in range(len(list1))]\n",
    "for i in range(len(list1)):\n",
    "       if list1[i] != \"\":\n",
    "            list2.append(list1[i])\n",
    "print(list2)\n",
    "            \n",
    "      \n",
    "            "
   ]
  },
  {
   "cell_type": "code",
   "execution_count": 14,
   "id": "379076a0",
   "metadata": {},
   "outputs": [
    {
     "name": "stdout",
     "output_type": "stream",
     "text": [
      "[5, 10, 15, 200, 25, 50, 200]\n"
     ]
    }
   ],
   "source": [
    "#Replace list’s item with new value if found\n",
    "list1 = [5, 10, 15, 20, 25, 50, 20]\n",
    "for i in range(len(list1)):\n",
    "    if list1[i] == 20:\n",
    "        #print(list1.index(list1[i]))\n",
    "        list1[i] = 200       \n",
    "print(list1)"
   ]
  },
  {
   "cell_type": "code",
   "execution_count": 26,
   "id": "73d2524d",
   "metadata": {},
   "outputs": [
    {
     "name": "stdout",
     "output_type": "stream",
     "text": [
      "[5, 15, 25, 50]\n"
     ]
    }
   ],
   "source": [
    "#Remove all occurrences of a specific item from a list.\n",
    "list1 = [5, 20, 15, 20, 25, 50, 20]\n",
    "list2=[]\n",
    "for i in range(len(list1)):\n",
    "    if list1[i]!= 20:\n",
    "        list2.append(list1[i])\n",
    "#list1.remove(20)\n",
    "print(list2)"
   ]
  },
  {
   "cell_type": "code",
   "execution_count": null,
   "id": "2ac7f68d",
   "metadata": {},
   "outputs": [],
   "source": []
  },
  {
   "cell_type": "code",
   "execution_count": null,
   "id": "11de7fd5",
   "metadata": {},
   "outputs": [],
   "source": []
  },
  {
   "cell_type": "code",
   "execution_count": null,
   "id": "b1b5c5c4",
   "metadata": {},
   "outputs": [],
   "source": []
  }
 ],
 "metadata": {
  "kernelspec": {
   "display_name": "Python 3 (ipykernel)",
   "language": "python",
   "name": "python3"
  },
  "language_info": {
   "codemirror_mode": {
    "name": "ipython",
    "version": 3
   },
   "file_extension": ".py",
   "mimetype": "text/x-python",
   "name": "python",
   "nbconvert_exporter": "python",
   "pygments_lexer": "ipython3",
   "version": "3.9.13"
  }
 },
 "nbformat": 4,
 "nbformat_minor": 5
}
