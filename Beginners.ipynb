{
 "cells": [
  {
   "cell_type": "code",
   "execution_count": null,
   "id": "0ccbf320",
   "metadata": {
    "scrolled": true
   },
   "outputs": [],
   "source": [
    "#Exercise 2: Print the sum of the current number and the previous number\n",
    "sum_num =int(input(\"Enter the range of number \"))\n",
    "i=0\n",
    "for i in range(sum_num):\n",
    "    #print(i)\n",
    "    j = i+1\n",
    "    sum = i+j \n",
    "    print(\"The Sum of Current Number\",i, \"and the Previous number \",j,\"Sum is \" , sum)\n",
    "\n"
   ]
  },
  {
   "cell_type": "code",
   "execution_count": null,
   "id": "c2e61b06",
   "metadata": {},
   "outputs": [],
   "source": [
    "\"\"\"Orginal String is  pynative\n",
    "Printing only even index chars\n",
    "p\n",
    "n\n",
    "t\n",
    "v\"\"\"\n",
    "str = \"pynative\"\n",
    "#print(str[5])\n",
    "#print(len(str))\n",
    "for i in range(0,len(str),2):\n",
    "    print(str[i])\n"
   ]
  },
  {
   "cell_type": "code",
   "execution_count": null,
   "id": "fa3c0f48",
   "metadata": {},
   "outputs": [],
   "source": [
    "\"\"\"remove_chars(\"pynative\", 4) so output must be tive. Here we need to remove first four characters from a string.\n",
    "remove_chars(\"pynative\", 2) so output must be native. Here we need to remove first two characters from a string.\n",
    "\"\"\"\n",
    "str = \"pynative\"\n",
    "new_str = \"\"\n",
    "for i in range(4,len(str)):\n",
    "    new_str = str[i]\n",
    "    #print(str[i])\n",
    "    print (new_str)"
   ]
  },
  {
   "cell_type": "code",
   "execution_count": null,
   "id": "5db4e9e8",
   "metadata": {},
   "outputs": [],
   "source": [
    "\"\"\"Given list: [10, 20, 30, 40, 10]\n",
    "result is True\n",
    "\n",
    "numbers_y = [75, 65, 35, 75, 30]\n",
    "result is False\"\"\"\n",
    "numbers_x = [10, 20, 30, 40, 10]\n",
    "numbers_y = [75, 65, 35, 75, 30]\n",
    "print(numbers_x[0] == numbers_x[-1])\n",
    "print(numbers_y[0]== numbers_y[-1])"
   ]
  },
  {
   "cell_type": "code",
   "execution_count": null,
   "id": "f1b7c8bf",
   "metadata": {},
   "outputs": [],
   "source": [
    "\"\"\"Given list is  [10, 20, 33, 46, 55]\n",
    "Divisible by 5\n",
    "10\n",
    "20\n",
    "55\"\"\"\n",
    "list1 =[10, 20, 33, 46, 55]\n",
    "for i in range(len(list1)):\n",
    "    if list1[i]%5 == 0:\n",
    "        print (list1[i])"
   ]
  },
  {
   "cell_type": "code",
   "execution_count": null,
   "id": "845bf213",
   "metadata": {},
   "outputs": [],
   "source": [
    "str = \"Emma is good developer. Emma is a writer\"\n",
    "n = str.count(\"Emma\",0,len(str))\n",
    "print(\"Emma is counted \",n,\" times\")"
   ]
  },
  {
   "cell_type": "code",
   "execution_count": null,
   "id": "39da8315",
   "metadata": {
    "scrolled": true
   },
   "outputs": [],
   "source": [
    "x = int(input(\"Enter a number \"))\n",
    "for i in range(1,x):\n",
    "    for j in range(i):\n",
    "        print (i, end=\" \")\n",
    "    print('\\n ')"
   ]
  },
  {
   "cell_type": "code",
   "execution_count": null,
   "id": "d55213ea",
   "metadata": {},
   "outputs": [],
   "source": [
    "for num in range(10):\n",
    "    for i in range(num):\n",
    "        print (num, end=\" \") #print number\n",
    "    # new line after each row to display pattern correctly\n",
    "    print(\"\\n\")"
   ]
  },
  {
   "cell_type": "code",
   "execution_count": null,
   "id": "d6f3c9aa",
   "metadata": {},
   "outputs": [],
   "source": [
    "'''1 \n",
    "1 2 \n",
    "1 2 3 \n",
    "1 2 3 4 \n",
    "1 2 3 4 5'''\n",
    "#x = int(input(\"Enter a number \"))\n",
    "for i in range(1,10):\n",
    "    for j in range(1,i+1):\n",
    "        print (j, end=\" \")\n",
    "    print('\\n ')"
   ]
  },
  {
   "cell_type": "code",
   "execution_count": null,
   "id": "4133cc6d",
   "metadata": {},
   "outputs": [],
   "source": [
    "'''\n",
    "1 1 1 1 1 \n",
    "2 2 2 2 \n",
    "3 3 3 \n",
    "4 4 \n",
    "5\n",
    "'''\n",
    "b= 0\n",
    "#x = int(input(\"Enter a number \"))\n",
    "for i in range(5,0,-1):\n",
    "    b= b+1\n",
    "    print(i,b)\n",
    "    for j in range(1,i+1):\n",
    "        print(b,end=' ')"
   ]
  },
  {
   "cell_type": "code",
   "execution_count": null,
   "id": "a7ed829b",
   "metadata": {
    "scrolled": false
   },
   "outputs": [],
   "source": [
    "# Print the Multiplacation table \n",
    "numb = int(input(\"Enter the range for Multiplcation table from greater than 1 \"))\n",
    "for i in range(1,numb+1):\n",
    "    #print (i)\n",
    "    for j in range(1,10+1):\n",
    "        #i = i * j\n",
    "        #print(j)\n",
    "        print(f\"{i} * {j} = \", i*j)\n",
    "    print()\n"
   ]
  },
  {
   "cell_type": "code",
   "execution_count": 15,
   "id": "e1b04e91",
   "metadata": {},
   "outputs": [
    {
     "name": "stdout",
     "output_type": "stream",
     "text": [
      "2 3 4 5 6 7 8 9 10 \n",
      "2 3 4 5 6 7 8 9 10 \n",
      "2 3 4 5 6 7 8 9 10 \n",
      "2 3 4 5 6 7 8 9 10 \n",
      "2 3 4 5 6 7 8 9 10 \n",
      "2 3 4 5 6 7 8 9 10 \n",
      "2 3 4 5 6 7 8 9 10 \n",
      "2 3 4 5 6 7 8 9 10 \n",
      "2 3 4 5 6 7 8 9 10 \n"
     ]
    }
   ],
   "source": [
    "#numb = int(input(\"Enter the range for Multiplcation table from greater than 1 \"))\n",
    "for i in range(1,10):\n",
    "    #print (i)\n",
    "    for j in range(1,11):\n",
    "        #i = i * j\n",
    "        print(j, end = \" \")\n",
    "        #print(f\"{i} * {j} = \", i*j)\n",
    "    print()"
   ]
  },
  {
   "cell_type": "code",
   "execution_count": null,
   "id": "72824058",
   "metadata": {},
   "outputs": [],
   "source": [
    "input1 = \"top\"\n",
    "input2 = \"pot\"\n",
    "list1= input1.split()"
   ]
  },
  {
   "cell_type": "code",
   "execution_count": 2,
   "id": "78462256",
   "metadata": {},
   "outputs": [
    {
     "data": {
      "text/plain": [
       "'hello'"
      ]
     },
     "execution_count": 2,
     "metadata": {},
     "output_type": "execute_result"
    }
   ],
   "source": [
    "['hello', 'morning'][bool('')]"
   ]
  },
  {
   "cell_type": "code",
   "execution_count": 4,
   "id": "c5a849ed",
   "metadata": {},
   "outputs": [
    {
     "data": {
      "text/plain": [
       "[1, 2, 'hello']"
      ]
     },
     "execution_count": 4,
     "metadata": {},
     "output_type": "execute_result"
    }
   ],
   "source": [
    "l=[1, 0, 2, 0, 'hello', '', []]\n",
    "\n",
    "list(filter(bool, l))"
   ]
  },
  {
   "cell_type": "code",
   "execution_count": null,
   "id": "f949900b",
   "metadata": {},
   "outputs": [],
   "source": []
  },
  {
   "cell_type": "code",
   "execution_count": null,
   "id": "a46245aa",
   "metadata": {},
   "outputs": [],
   "source": []
  },
  {
   "cell_type": "code",
   "execution_count": null,
   "id": "c206cb52",
   "metadata": {},
   "outputs": [],
   "source": []
  },
  {
   "cell_type": "code",
   "execution_count": null,
   "id": "e5ca7578",
   "metadata": {},
   "outputs": [],
   "source": []
  },
  {
   "cell_type": "code",
   "execution_count": null,
   "id": "c8acb972",
   "metadata": {},
   "outputs": [],
   "source": []
  },
  {
   "cell_type": "code",
   "execution_count": null,
   "id": "1b9591c1",
   "metadata": {},
   "outputs": [],
   "source": []
  },
  {
   "cell_type": "code",
   "execution_count": null,
   "id": "fca82cb2",
   "metadata": {},
   "outputs": [],
   "source": []
  },
  {
   "cell_type": "code",
   "execution_count": null,
   "id": "d388db0c",
   "metadata": {},
   "outputs": [],
   "source": []
  },
  {
   "cell_type": "code",
   "execution_count": null,
   "id": "ed2caabc",
   "metadata": {},
   "outputs": [],
   "source": []
  },
  {
   "cell_type": "code",
   "execution_count": null,
   "id": "7eedf150",
   "metadata": {},
   "outputs": [],
   "source": []
  },
  {
   "cell_type": "code",
   "execution_count": null,
   "id": "b9712cd1",
   "metadata": {},
   "outputs": [],
   "source": []
  }
 ],
 "metadata": {
  "kernelspec": {
   "display_name": "Python 3 (ipykernel)",
   "language": "python",
   "name": "python3"
  },
  "language_info": {
   "codemirror_mode": {
    "name": "ipython",
    "version": 3
   },
   "file_extension": ".py",
   "mimetype": "text/x-python",
   "name": "python",
   "nbconvert_exporter": "python",
   "pygments_lexer": "ipython3",
   "version": "3.9.13"
  }
 },
 "nbformat": 4,
 "nbformat_minor": 5
}
